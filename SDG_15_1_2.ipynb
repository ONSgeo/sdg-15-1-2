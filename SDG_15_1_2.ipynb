{
 "cells": [
  {
   "cell_type": "code",
   "execution_count": 1,
   "metadata": {
    "collapsed": true
   },
   "outputs": [],
   "source": [
    "#author: Robert Shava\n",
    "#Project: SDG 15.1.2"
   ]
  },
  {
   "cell_type": "code",
   "execution_count": 2,
   "metadata": {
    "collapsed": true
   },
   "outputs": [],
   "source": [
    "#import libraries\n",
    "import os\n",
    "import pandas as pd\n",
    "import matplotlib.pyplot as plt\n",
    "import shapely\n",
    "import numpy as np\n",
    "import geopandas as gpd\n",
    "from glob import glob\n",
    "import fiona\n",
    "import math\n",
    "import descartes as des\n",
    "%matplotlib inline"
   ]
  },
  {
   "cell_type": "code",
   "execution_count": 5,
   "metadata": {
    "collapsed": true
   },
   "outputs": [],
   "source": [
    "#read in data\n",
    "# read data files in\n",
    "# read in land cover data\n",
    "#fiona.listlayers('Q:\\Authoritative_Datasets\\Land_Cover_Maps\\LCM_2015_GB_NI.gdb\", driver = 'FILEGDB', layer = 'LCM_2015_NI_Vector_BNG')\n",
    "#fiona.listlayers('Q:\\Authoritative_Datasets\\Land_Coverage_Maps\\LCM_2015_GB_NI.gdb') \n",
    "lcm15gdb_path = r'Q:\\Authoritative_Datasets\\Land_Coverage_Maps\\LCM_2015_GB_NI.gdb'\n",
    "lcm15gb = gpd.read_file(r\"Q:\\Authoritative_Datasets\\Land_Cover_Maps\\LCM_2015_GB_NI.gdb\", driver = 'FILEGDB', layer = 'LCM_2015_GB_Vector_BNG')\n",
    "lcm15ni = gpd.read_file(r\"Q:\\Authoritative_Datasets\\Land_Cover_Maps\\LCM_2015_GB_NI.gdb\", driver = 'FILEGDB', layer = 'LCM_2015_NI_Vector_BNG')\n",
    "\n",
    "#read in regions data\n",
    "ukRegions19 = gpd.read_file(r'R:\\ROBERT\\SDGs\\SDG15\\GOAL1512\\QA1512\\Data\\ukRegions_Dec19BFC.shp')\n",
    "\n",
    "#read in key biodiversity areas (important sites for biodiversity) data\n",
    "kba = gpd.read_file(r'R:\\ROBERT\\SDGs\\SDG15\\GOAL1512\\QA1512\\Data\\kba.shp')\n",
    "\n",
    "#read in protected areas data from World Data on Protected Areas\n",
    "#PA data excludes SCIs - Sites of Community Importance - which had geocoding discrepancies\n",
    "wdpa19UK = gpd.read_file(r'R:\\ROBERT\\SDGs\\SDG15\\GOAL1512\\QA1512\\Data\\WDPA19uk_TerrNoSCIfinal.shp')"
   ]
  },
  {
   "cell_type": "code",
   "execution_count": 4,
   "metadata": {
    "scrolled": true
   },
   "outputs": [
    {
     "ename": "NameError",
     "evalue": "name 'lcm15gb' is not defined",
     "output_type": "error",
     "traceback": [
      "\u001b[1;31m---------------------------------------------------------------------------\u001b[0m",
      "\u001b[1;31mNameError\u001b[0m                                 Traceback (most recent call last)",
      "\u001b[1;32m<ipython-input-4-a2e9c12ff079>\u001b[0m in \u001b[0;36m<module>\u001b[1;34m()\u001b[0m\n\u001b[0;32m      1\u001b[0m \u001b[1;31m#check projection and reproject\u001b[0m\u001b[1;33m\u001b[0m\u001b[1;33m\u001b[0m\u001b[0m\n\u001b[0;32m      2\u001b[0m \u001b[1;31m# check CSR to make sure it's all BNG\u001b[0m\u001b[1;33m\u001b[0m\u001b[1;33m\u001b[0m\u001b[0m\n\u001b[1;32m----> 3\u001b[1;33m \u001b[0mprint\u001b[0m\u001b[1;33m(\u001b[0m\u001b[0mlcm15gb\u001b[0m\u001b[1;33m.\u001b[0m\u001b[0mcrs\u001b[0m\u001b[1;33m)\u001b[0m\u001b[1;33m\u001b[0m\u001b[0m\n\u001b[0m\u001b[0;32m      4\u001b[0m \u001b[1;33m\u001b[0m\u001b[0m\n\u001b[0;32m      5\u001b[0m \u001b[1;31m#wdpa19UK.crs\u001b[0m\u001b[1;33m\u001b[0m\u001b[1;33m\u001b[0m\u001b[0m\n",
      "\u001b[1;31mNameError\u001b[0m: name 'lcm15gb' is not defined"
     ]
    }
   ],
   "source": [
    "#check projection and reproject\n",
    "# check CSR to make sure it's all BNG\n",
    "print(lcm15gb.crs)\n",
    "\n",
    "#wdpa19UK.crs\n",
    "#lcm15ni.crs\n",
    "\n",
    "#reproject all other files to lcm15gb projection\n",
    "ukRegions19.to_crs(lcm15gb.crs, inplace=True)\n",
    "kba.to_crs(lcm15gb.crs, inplace=True)\n",
    "wdpa19UK.to_crs(lcm15gb.crs, inplace=True)\n",
    "lcm15ni.to_crs(lcm15gb.crs, inplace=True)\n"
   ]
  },
  {
   "cell_type": "code",
   "execution_count": 5,
   "metadata": {
    "collapsed": true,
    "scrolled": true
   },
   "outputs": [],
   "source": [
    "#intersect and kbaRgns_lcm15 and wdpa\n",
    "#read in kbaRgnsLcm and wdpa_dissolve data\n",
    "kba_RgnsNI_lcm15ni_int = gpd.read_file(r'R:\\ROBERT\\SDGs\\SDG15\\GOAL1512\\QA1512\\Data\\kba_RgnsNI_lcm15_int.shp')\n",
    "kba_RgnsGB_lcm15gb_int = gpd.read_file(r'R:\\ROBERT\\SDGs\\SDG15\\GOAL1512\\QA1512\\Data\\kba_RgnsGB_lcm15_int.shp')\n",
    "wdpa19uk_dissolve = gpd.read_file(r'R:\\ROBERT\\SDGs\\SDG15\\GOAL1512\\QA1512\\Intermediates\\wdpa19uk_dissolve.shp') \n",
    "wdpa15uk_dissolve = gpd.read_file(r'R:\\ROBERT\\SDGs\\SDG15\\GOAL1512\\QA1512\\Intermediates\\wdpa15uk_dissolve.shp')\n",
    "#kba_lcm15ni_int.columns()\n",
    "#kba_lcm15ni_int.to_file(r'R:\\ROBERT\\SDGs\\SDG15\\GOAL1512\\QA1512\\Data\\kba_lcm15ni_int.shp')"
   ]
  },
  {
   "cell_type": "code",
   "execution_count": null,
   "metadata": {
    "collapsed": true
   },
   "outputs": [],
   "source": [
    "kba_rgnsgb_int = gpd.overlay(kba, ukRegions, how = 'intersection' )\n",
    "kba_Rgns_lcm15gb_int = gpd.overlay(kba_rgnsgb_int, lcm15gb, how = 'intersection')\n",
    "kba_Rgns_lcm15gb_int.to_file(r'R:\\ROBERT\\SDGs\\SDG15\\GOAL1512\\QA1512\\Data\\kba_Rgns_lcm15gb_int.shp')"
   ]
  },
  {
   "cell_type": "code",
   "execution_count": null,
   "metadata": {
    "collapsed": true
   },
   "outputs": [],
   "source": [
    "# filter wdpa19uk by years 2019, 2015, 2011, 2007, 2003, 1999 and dissolve\n",
    "wdpa19UK = wdpa19UK[['geometry', 'DESIG_TYPE','STATUS_YR','Area_ha']]\n",
    "wdpa15uk = (wdpa19UK['STATUS_YR'] <= 2015)\n",
    "wdpa15uk_dissolve = wdpa19UK.loc[wdpa15uk].dissolve(by = 'DESIG_TYPE')\n",
    "wdpa15uk_dissolve.plot()\n"
   ]
  },
  {
   "cell_type": "code",
   "execution_count": null,
   "metadata": {
    "collapsed": true
   },
   "outputs": [],
   "source": [
    "kba"
   ]
  }
 ],
 "metadata": {
  "kernelspec": {
   "display_name": "Python 3",
   "language": "python",
   "name": "python3"
  },
  "language_info": {
   "codemirror_mode": {
    "name": "ipython",
    "version": 3
   },
   "file_extension": ".py",
   "mimetype": "text/x-python",
   "name": "python",
   "nbconvert_exporter": "python",
   "pygments_lexer": "ipython3",
   "version": "3.6.1"
  }
 },
 "nbformat": 4,
 "nbformat_minor": 2
}
